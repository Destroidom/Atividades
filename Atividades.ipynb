{
  "nbformat": 4,
  "nbformat_minor": 0,
  "metadata": {
    "colab": {
      "provenance": [],
      "authorship_tag": "ABX9TyPwgcbU58xpZQs2LO3UYhE9",
      "include_colab_link": true
    },
    "kernelspec": {
      "name": "python3",
      "display_name": "Python 3"
    },
    "language_info": {
      "name": "python"
    }
  },
  "cells": [
    {
      "cell_type": "markdown",
      "metadata": {
        "id": "view-in-github",
        "colab_type": "text"
      },
      "source": [
        "<a href=\"https://colab.research.google.com/github/Destroidom/Atividades/blob/main/Atividades.ipynb\" target=\"_parent\"><img src=\"https://colab.research.google.com/assets/colab-badge.svg\" alt=\"Open In Colab\"/></a>"
      ]
    },
    {
      "cell_type": "code",
      "execution_count": null,
      "metadata": {
        "colab": {
          "base_uri": "https://localhost:8080/"
        },
        "id": "0ulBTMZnQB9Y",
        "outputId": "41ba0ca4-49f7-4acc-daac-1fc3c106394c"
      },
      "outputs": [
        {
          "output_type": "stream",
          "name": "stdout",
          "text": [
            "informe nota 15\n",
            "informe nota 25\n",
            "Sua media é: \n",
            "5.0\n"
          ]
        }
      ],
      "source": [
        "#fazer media\n",
        "nota1 = float(input(\"informe nota 1 \"))\n",
        "nota2 = float(input(\"informe nota 2 \"))\n",
        "med = (nota1+nota2)/2\n",
        "print(\"Sua media é: \")\n",
        "print(med)"
      ]
    },
    {
      "cell_type": "code",
      "source": [
        "#informar o valor do desconto e o preço final\n",
        "precoP = float(input(\"Informe o preço do produto: \"))\n",
        "desconto = float(input(\"Informe o percentual de desconto\"))\n",
        "descontoT = ((desconto/100)*precoP)\n",
        "print(\"Seu desconto foi de:\")\n",
        "print(descontoT)\n",
        "print(\"Valor com desconto: \")\n",
        "print(precoP-descontoT)"
      ],
      "metadata": {
        "colab": {
          "base_uri": "https://localhost:8080/"
        },
        "id": "mX75eGNnQzrk",
        "outputId": "7118ca70-e4ad-4751-85cc-2aeb9c0e3b32"
      },
      "execution_count": null,
      "outputs": [
        {
          "output_type": "stream",
          "name": "stdout",
          "text": [
            "Informe o preço do produto: 100\n",
            "Informe o percentual de desconto6\n",
            "Seu desconto foi de:\n",
            "6.0\n",
            "Valor com desconto: \n",
            "94.0\n"
          ]
        }
      ]
    },
    {
      "cell_type": "code",
      "source": [
        "#tempo perdido por um fumante com base na quantidade de cigarros e anos\n",
        "quantiC = float(input(\"Quantos cigarros por dia: \"))\n",
        "tempoF = float(input(\"Quanto anos fumando: \"))\n",
        "quantiT = (((quantiC * (365*tempoF)) * 10)/60)/24\n",
        "print (\"Seu tempo perdido em dias foi de %f:\" %quantiT)\n"
      ],
      "metadata": {
        "colab": {
          "base_uri": "https://localhost:8080/"
        },
        "id": "Ez8NxrFKVJ1p",
        "outputId": "2b9578fa-0d4b-463b-e78d-0062170d5d1d"
      },
      "execution_count": null,
      "outputs": [
        {
          "output_type": "stream",
          "name": "stdout",
          "text": [
            "Quantos cigarros por dia: 5\n",
            "Quanto anos fumando: 5\n",
            "Seu tempo perdido em dias foi de 63.368056:\n"
          ]
        }
      ]
    },
    {
      "cell_type": "code",
      "source": [
        "#\"Caixa registradora\"\n",
        "apagar = 0\n",
        "while True:\n",
        "  codigo = int(input(\"Digite o codigo do produto ou 0 para sair: \"))\n",
        "  preco  = 0\n",
        "  if codigo == 0:\n",
        "    break\n",
        "  elif codigo == 1:\n",
        "    preco = 0.50\n",
        "  elif codigo == 2:\n",
        "    preco = 1.00\n",
        "  elif codigo == 3:\n",
        "    preco = 4.00\n",
        "  elif codigo == 5:\n",
        "    preco = 7.00\n",
        "  elif codigo == 9:\n",
        "    preco = 8.00\n",
        "\n",
        "  else:\n",
        "    print(\"Codigo invalido\")\n",
        "\n",
        "  if preco != 0:\n",
        "    quantidade = int(input(\"Quantidade:\"))\n",
        "    apagar = apagar + (preco * quantidade)\n",
        "print(f\"Valor a pagar: R$ {apagar:8.2f}\")\n",
        "\n"
      ],
      "metadata": {
        "colab": {
          "base_uri": "https://localhost:8080/"
        },
        "id": "5-wxJISjZZbY",
        "outputId": "ac808f02-ede4-4364-ed77-1a9cf0c8d43a"
      },
      "execution_count": null,
      "outputs": [
        {
          "output_type": "stream",
          "name": "stdout",
          "text": [
            "Digite o codigo do produto ou 0 para sair: 1\n",
            "Quantidade:5\n",
            "Digite o codigo do produto ou 0 para sair: 3\n",
            "Quantidade:1\n",
            "Digite o codigo do produto ou 0 para sair: 9\n",
            "Quantidade:2\n",
            "Digite o codigo do produto ou 0 para sair: 2\n",
            "Quantidade:4\n",
            "Digite o codigo do produto ou 0 para sair: 0\n",
            "Valor a pagar: R$    26.50\n"
          ]
        }
      ]
    },
    {
      "cell_type": "code",
      "source": [
        "#Somar dois valores da posiçao x e y\n",
        "#vetor\n",
        "vetor = [0]*8\n",
        "#pegar os avalores do vetor\n",
        "for i in range(8):\n",
        "  vetor[i] = int(input(\"Digite os valores da posiçao {}:\".format(i)))\n",
        "#le x e y\n",
        "x = int(input(\"Digite o valor de x: \"))\n",
        "y = int(input(\"Digite o valor de y: \"))\n",
        "#Calcular a soma de x e y\n",
        "total = vetor[x] + vetor[y]\n",
        "#\"printar\" soma\n",
        "print(\"A soma dos valores nas posiçoes x e y é {}\".format(total))\n"
      ],
      "metadata": {
        "colab": {
          "base_uri": "https://localhost:8080/"
        },
        "id": "Uwozo-zHddvp",
        "outputId": "c94644e0-0644-4b1a-ecb8-b60def143fc0"
      },
      "execution_count": null,
      "outputs": [
        {
          "output_type": "stream",
          "name": "stdout",
          "text": [
            "Digite os valores da posiçao 0:5\n",
            "Digite os valores da posiçao 1:5\n",
            "Digite os valores da posiçao 2:5\n",
            "Digite os valores da posiçao 3:5\n",
            "Digite os valores da posiçao 4:5\n",
            "Digite os valores da posiçao 5:5\n",
            "Digite os valores da posiçao 6:5\n",
            "Digite os valores da posiçao 7:5\n",
            "Digite o valor de x: 1\n",
            "Digite o valor de y: 5\n",
            "A soma dos valores nas posiçoes x e y é 10\n"
          ]
        }
      ]
    },
    {
      "cell_type": "code",
      "source": [
        "#Fazer um programa q recebe um usuario em um vetor com 10 posiçoes, que devera ser impresso o maior e o menor elemento do vetor\n",
        "#vetor\n",
        "vetor = []\n",
        "for i in range(10):\n",
        "  vetor.append(int(input(\"Digite o elemento %d: \" % i)))\n",
        "#Criando as variaveis\n",
        "maior = vetor[0]\n",
        "menor = vetor[0]\n",
        "maiorq = 0\n",
        "total = 0\n",
        "#armanezar as variaveis menor e maior\n",
        "for i in range(0, len(vetor)):\n",
        "  if vetor[i] > maior:\n",
        "    maior = vetor[i]\n",
        "  elif vetor[i] < menor:\n",
        "    menor = vetor[i]\n",
        "  if vetor[i] > 5:\n",
        "    maiorq = maiorq+1\n",
        "\n",
        "for i in range(0, len(vetor)):\n",
        "  total= total+vetor[i]\n",
        "\n",
        "#prints e media\n",
        "media = total/10\n",
        "print(\"O maior elemento do vetor é %d\" % maior)\n",
        "print(\"O menor elemento do vetor é %d\" % menor)\n",
        "print(\"A quantidade de elementos maior q 5 é: %d\" %maiorq)\n",
        "print(\"A soma de todos os elementos é de %d\" % total)\n",
        "print(\"A media de todos os elementos é de %f\" % media)"
      ],
      "metadata": {
        "colab": {
          "base_uri": "https://localhost:8080/"
        },
        "id": "F-ZDZqlJjwCV",
        "outputId": "868e9cf7-1bac-4f33-8792-43c6ea112b0a"
      },
      "execution_count": null,
      "outputs": [
        {
          "output_type": "stream",
          "name": "stdout",
          "text": [
            "Digite o elemento 0: 5\n",
            "Digite o elemento 1: 5\n",
            "Digite o elemento 2: 5\n",
            "Digite o elemento 3: 5\n",
            "Digite o elemento 4: 6\n",
            "Digite o elemento 5: 5\n",
            "Digite o elemento 6: 5\n",
            "Digite o elemento 7: 5\n",
            "Digite o elemento 8: 5\n",
            "Digite o elemento 9: 5\n",
            "O maior elemento do vetor é 6\n",
            "O menor elemento do vetor é 5\n",
            "A quantidade de elementos maior q 5 é: 1\n",
            "A soma de todos os elementos é de 51\n",
            "A media de todos os elementos é de 5.100000\n"
          ]
        }
      ]
    },
    {
      "cell_type": "code",
      "source": [
        "#fazer um programa de aumento salarial\n",
        "#Salario\n",
        "salario = float(input(\"Informe seu salario: \"))\n",
        "#Descobrindo o aumento\n",
        "if salario > 1250:\n",
        "    aumento = salario*0.10\n",
        "elif salario <= 1250:\n",
        "    aumento = salario*0.15\n",
        "#novo salario e os prints\n",
        "novosalario =salario + aumento\n",
        "print(\"Seu novo salario sera de: %d\" % novosalario)\n",
        "print(\"Seu aumento foi de: %d\" % aumento)\n"
      ],
      "metadata": {
        "colab": {
          "base_uri": "https://localhost:8080/"
        },
        "id": "SPNmxwrn1oNC",
        "outputId": "b2e8bff2-d897-452f-d22b-421d537dc04a"
      },
      "execution_count": null,
      "outputs": [
        {
          "output_type": "stream",
          "name": "stdout",
          "text": [
            "Informe seu salario: 1000\n",
            "Seu novo salario sera de: 1150\n",
            "Seu aumento foi de: 150\n"
          ]
        }
      ]
    },
    {
      "cell_type": "code",
      "source": [
        "#fazer operaçoes com os vetores\n",
        "#listas\n",
        "vetor1 = [0]*4\n",
        "#valores vetor1\n",
        "for i in range(4):\n",
        "    vetor1[i]= int(input(\"Digite os 4 valores da lista 1: \"))\n",
        "#vetor2\n",
        "vetor2 = [0]*4\n",
        "for y in range(4):\n",
        "    vetor2[y]=int(input(\"Digite os 4 valores da lista 2: \"))\n",
        "#mostrar lista\n",
        "print(f\"Lista 1: {vetor1}\")\n",
        "print(f\"Lista 2: {vetor2}\")\n",
        "#criando conjuntos\n",
        "conjunto1 = set(vetor1)\n",
        "conjunto2 = set(vetor2)\n",
        "#prints\n",
        "print(\"Valores comuns nas duas listas: \", conjunto1 & conjunto2) #& valores comuns\n",
        "print(\"Valores que so existem na primeira lista: \", conjunto1 - conjunto2)\n",
        "print(\"Valores que so existem na segunda lista: \", conjunto2 - conjunto1)\n",
        "print(\"Valores nao repetidos nas duas listas: \", conjunto1 ^ conjunto2) #^ realiza subtraçao simetrica\n",
        "\n",
        "\n"
      ],
      "metadata": {
        "colab": {
          "base_uri": "https://localhost:8080/"
        },
        "id": "4HfeEbiv5hvj",
        "outputId": "b108e350-22c0-4684-ffa6-b1df5f973dbc"
      },
      "execution_count": null,
      "outputs": [
        {
          "output_type": "stream",
          "name": "stdout",
          "text": [
            "Digite os 4 valores da lista 1: 5\n",
            "Digite os 4 valores da lista 1: 4\n",
            "Digite os 4 valores da lista 1: 100\n",
            "Digite os 4 valores da lista 1: 101\n",
            "Digite os 4 valores da lista 2: 5\n",
            "Digite os 4 valores da lista 2: 4\n",
            "Digite os 4 valores da lista 2: 500\n",
            "Digite os 4 valores da lista 2: 501\n",
            "Lista 1: [5, 4, 100, 101]\n",
            "Lista 2: [5, 4, 500, 501]\n",
            "Valores comuns nas duas listas:  {4, 5}\n",
            "Valores que so existem na primeira lista:  {100, 101}\n",
            "Valores que so existem na segunda lista:  {500, 501}\n",
            "Valores nao repetidos nas duas listas:  {100, 101, 500, 501}\n"
          ]
        }
      ]
    },
    {
      "cell_type": "code",
      "source": [
        "#Criar um vetor com base em outros vetores\n",
        "vetorA= []\n",
        "vetorB= []\n",
        "vetorC= []\n",
        "#pegar os valores\n",
        "for i in range(10):\n",
        "    vetorA.append(int(input(\"Digite o elemento %d do vetor A: \" %i)))\n",
        "    vetorB.append(int(input(\"Digite o elemento %d do vetor B: \" %i)))\n",
        "#vetorC que é dado por vetor A - vetor B\n",
        "for i in range(10):\n",
        "    vetorC.append(vetorA[i]-vetorB[i])\n",
        "print(f\"Vetor C: {vetorC}\")"
      ],
      "metadata": {
        "id": "fbE5eM4B-pvk"
      },
      "execution_count": null,
      "outputs": []
    },
    {
      "cell_type": "code",
      "source": [
        "# Faça um programa em Python que receba 6 numeros inteiros e mostre: ´\n",
        "#  • Os numeros pares digitados;\n",
        "#  • A soma dos numeros pares digitados;\n",
        "#  • Os numeros   ımpares digitados;\n",
        "#  • A quantidade de numeros  ımpares\n",
        "\n",
        "numeros = []\n",
        "numPar = []\n",
        "numImp = []\n",
        "somaPar = 0\n",
        "\n",
        "for i in range(6):\n",
        "    numeros.append(int(input(\"Dgite um numero:\")))\n",
        "for numero in numeros:\n",
        "    if numero % 2 == 0:\n",
        "        numPar.append(numero)\n",
        "        somaPar += numero\n",
        "    else:\n",
        "        numImp.append(numero)\n",
        "print(f\"Os numeros pares sao: {numPar}\")\n",
        "print(\"A soma dos numeros pares é:\", somaPar)\n",
        "print(f\"Os numeros impares sao: {numImp}\")\n",
        "print(\"O total de numeros impares é: \", len(numImp))"
      ],
      "metadata": {
        "id": "1Id3TVUluJuu"
      },
      "execution_count": null,
      "outputs": []
    },
    {
      "cell_type": "code",
      "source": [
        "# Faça um programa em Python para gerar automaticamente numeros entre 0 e 99 de uma cartela de bingo.\n",
        "#Sabendo que cada cartela devera conter 5 linhas de 5 numeros, gere estes dados de modo a nao ter numeros repetidos dentro das cartelas. O programa deve exibir na ´\n",
        "# tela a cartela gerada.\n",
        "\n",
        "import random\n",
        "\n",
        "numeros = set()\n",
        "cartela = []\n",
        "for i in range(5):\n",
        "    numero = random.randint(0,99)\n",
        "    while numero in numeros:\n",
        "        numero = random.randint(0,99)\n",
        "    numeros.add(numero)\n",
        "    cartela.append(numero)\n",
        "\n",
        "print(f\"Cartela de bingo: {cartela}\")\n",
        "for linha in cartela:\n",
        "    print(linha)\n"
      ],
      "metadata": {
        "id": "YU-aLzvMvYdD"
      },
      "execution_count": null,
      "outputs": []
    },
    {
      "cell_type": "code",
      "source": [
        "# Crie um dicionário que é uma agenda e coloque nele os seguintes dados: chave (cpf),\n",
        "# nome, idade, telefone. O programa deve ler um número indeterminado de dados, criar a\n",
        "# agenda e imprimir todos os itens do dicionário no formato chave: nome, idade, fone.\n",
        "\n",
        "#criar agenda\n",
        "agenda= {}\n",
        "\n",
        "#pegar os dados\n",
        "while True:\n",
        "    cpf = input(\"Digite o CPF: \")\n",
        "    nome = input(\"Digite o nome: \")\n",
        "    idade = input(\"Digite a idade: \")\n",
        "    telefone = input(\"Digite o telefone: \")\n",
        "\n",
        "    #adicionar a agenda\n",
        "    agenda[cpf] = {\n",
        "        \"nome\":nome,\n",
        "        \"idade\":idade,\n",
        "        \"telefone\":telefone,\n",
        "        }\n",
        "    #perguntar se quer continuar\n",
        "    continuar = input(\"Deseja continuar(s/n)? \")\n",
        "    if continuar != \"s\":\n",
        "        break\n",
        "#prints\n",
        "for cpf, contato in agenda.items():\n",
        "    print(cpf, contato[\"nome\"], contato[\"idade\"], contato[\"telefone\"])"
      ],
      "metadata": {
        "id": "JIFVgFpaxCdx"
      },
      "execution_count": null,
      "outputs": []
    }
  ]
}