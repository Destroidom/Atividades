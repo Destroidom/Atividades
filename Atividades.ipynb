{
  "nbformat": 4,
  "nbformat_minor": 0,
  "metadata": {
    "colab": {
      "provenance": [],
      "authorship_tag": "ABX9TyPwgcbU58xpZQs2LO3UYhE9"
    },
    "kernelspec": {
      "name": "python3",
      "display_name": "Python 3"
    },
    "language_info": {
      "name": "python"
    }
  },
  "cells": [
    {
      "cell_type": "code",
      "execution_count": null,
      "metadata": {
        "id": "0ulBTMZnQB9Y"
      },
      "outputs": [],
      "source": [
        "#fazer media\n",
        "nota1 = float(input(\"informe nota 1 \"))\n",
        "nota2 = float(input(\"informe nota 2 \"))\n",
        "med = (nota1+nota2)/2\n",
        "print(\"Sua media é: \")\n",
        "print(med)"
      ]
    },
    {
      "cell_type": "code",
      "source": [
        "#informar o valor do desconto e o preço final\n",
        "precoP = float(input(\"Informe o preço do produto: \"))\n",
        "desconto = float(input(\"Informe o percentual de desconto\"))\n",
        "descontoT = ((desconto/100)*precoP)\n",
        "print(\"Seu desconto foi de:\")\n",
        "print(descontoT)\n",
        "print(\"Valor com desconto: \")\n",
        "print(precoP-descontoT)"
      ],
      "metadata": {
        "id": "mX75eGNnQzrk"
      },
      "execution_count": null,
      "outputs": []
    },
    {
      "cell_type": "code",
      "source": [
        "#tempo perdido por um fumante com base na quantidade de cigarros e anos\n",
        "quantiC = float(input(\"Quantos cigarros por dia: \"))\n",
        "tempoF = float(input(\"Quanto anos fumando: \"))\n",
        "quantiT = (((quantiC * (365*tempoF)) * 10)/60)/24\n",
        "print (\"Seu tempo perdido em dias foi de %f:\" %quantiT)\n"
      ],
      "metadata": {
        "id": "Ez8NxrFKVJ1p"
      },
      "execution_count": null,
      "outputs": []
    },
    {
      "cell_type": "code",
      "source": [
        "#\"Caixa registradora\"\n",
        "apagar = 0\n",
        "while True:\n",
        "  codigo = int(input(\"Digite o codigo do produto ou 0 para sair: \"))\n",
        "  preco  = 0\n",
        "  if codigo == 0:\n",
        "    break\n",
        "  elif codigo == 1:\n",
        "    preco = 0.50\n",
        "  elif codigo == 2:\n",
        "    preco = 1.00\n",
        "  elif codigo == 3:\n",
        "    preco = 4.00\n",
        "  elif codigo == 5:\n",
        "    preco = 7.00\n",
        "  elif codigo == 9:\n",
        "    preco = 8.00\n",
        "\n",
        "  else:\n",
        "    print(\"Codigo invalido\")\n",
        "\n",
        "  if preco != 0:\n",
        "    quantidade = int(input(\"Quantidade:\"))\n",
        "    apagar = apagar + (preco * quantidade)\n",
        "print(f\"Valor a pagar: R$ {apagar:8.2f}\")\n",
        "\n"
      ],
      "metadata": {
        "id": "5-wxJISjZZbY"
      },
      "execution_count": null,
      "outputs": []
    },
    {
      "cell_type": "code",
      "source": [
        "#Somar dois valores da posiçao x e y\n",
        "#vetor\n",
        "vetor = [0]*8\n",
        "#pegar os avalores do vetor\n",
        "for i in range(8):\n",
        "  vetor[i] = int(input(\"Digite os valores da posiçao {}:\".format(i)))\n",
        "#le x e y\n",
        "x = int(input(\"Digite o valor de x: \"))\n",
        "y = int(input(\"Digite o valor de y: \"))\n",
        "#Calcular a soma de x e y\n",
        "total = vetor[x] + vetor[y]\n",
        "#\"printar\" soma\n",
        "print(\"A soma dos valores nas posiçoes x e y é {}\".format(total))\n"
      ],
      "metadata": {
        "id": "Uwozo-zHddvp"
      },
      "execution_count": null,
      "outputs": []
    },
    {
      "cell_type": "code",
      "source": [
        "#Fazer um programa q recebe um usuario em um vetor com 10 posiçoes, que devera ser impresso o maior e o menor elemento do vetor\n",
        "#vetor\n",
        "vetor = []\n",
        "for i in range(10):\n",
        "  vetor.append(int(input(\"Digite o elemento %d: \" % i)))\n",
        "#Criando as variaveis\n",
        "maior = vetor[0]\n",
        "menor = vetor[0]\n",
        "maiorq = 0\n",
        "total = 0\n",
        "#armanezar as variaveis menor e maior\n",
        "for i in range(0, len(vetor)):\n",
        "  if vetor[i] > maior:\n",
        "    maior = vetor[i]\n",
        "  elif vetor[i] < menor:\n",
        "    menor = vetor[i]\n",
        "  if vetor[i] > 5:\n",
        "    maiorq = maiorq+1\n",
        "\n",
        "for i in range(0, len(vetor)):\n",
        "  total= total+vetor[i]\n",
        "\n",
        "#prints e media\n",
        "media = total/10\n",
        "print(\"O maior elemento do vetor é %d\" % maior)\n",
        "print(\"O menor elemento do vetor é %d\" % menor)\n",
        "print(\"A quantidade de elementos maior q 5 é: %d\" %maiorq)\n",
        "print(\"A soma de todos os elementos é de %d\" % total)\n",
        "print(\"A media de todos os elementos é de %f\" % media)"
      ],
      "metadata": {
        "id": "F-ZDZqlJjwCV"
      },
      "execution_count": null,
      "outputs": []
    },
    {
      "cell_type": "code",
      "source": [
        "#fazer um programa de aumento salarial\n",
        "#Salario\n",
        "salario = float(input(\"Informe seu salario: \"))\n",
        "#Descobrindo o aumento\n",
        "if salario > 1250:\n",
        "    aumento = salario*0.10\n",
        "elif salario <= 1250:\n",
        "    aumento = salario*0.15\n",
        "#novo salario e os prints\n",
        "novosalario =salario + aumento\n",
        "print(\"Seu novo salario sera de: %d\" % novosalario)\n",
        "print(\"Seu aumento foi de: %d\" % aumento)\n"
      ],
      "metadata": {
        "id": "SPNmxwrn1oNC"
      },
      "execution_count": null,
      "outputs": []
    },
    {
      "cell_type": "code",
      "source": [
        "#fazer operaçoes com os vetores\n",
        "#listas\n",
        "vetor1 = [0]*4\n",
        "#valores vetor1\n",
        "for i in range(4):\n",
        "    vetor1[i]= int(input(\"Digite os 4 valores da lista 1: \"))\n",
        "#vetor2\n",
        "vetor2 = [0]*4\n",
        "for y in range(4):\n",
        "    vetor2[y]=int(input(\"Digite os 4 valores da lista 2: \"))\n",
        "#mostrar lista\n",
        "print(f\"Lista 1: {vetor1}\")\n",
        "print(f\"Lista 2: {vetor2}\")\n",
        "#criando conjuntos\n",
        "conjunto1 = set(vetor1)\n",
        "conjunto2 = set(vetor2)\n",
        "#prints\n",
        "print(\"Valores comuns nas duas listas: \", conjunto1 & conjunto2) #& valores comuns\n",
        "print(\"Valores que so existem na primeira lista: \", conjunto1 - conjunto2)\n",
        "print(\"Valores que so existem na segunda lista: \", conjunto2 - conjunto1)\n",
        "print(\"Valores nao repetidos nas duas listas: \", conjunto1 ^ conjunto2) #^ realiza subtraçao simetrica\n",
        "\n",
        "\n"
      ],
      "metadata": {
        "id": "4HfeEbiv5hvj"
      },
      "execution_count": null,
      "outputs": []
    },
    {
      "cell_type": "code",
      "source": [
        "#Criar um vetor com base em outros vetores\n",
        "vetorA= []\n",
        "vetorB= []\n",
        "vetorC= []\n",
        "#pegar os valores\n",
        "for i in range(10):\n",
        "    vetorA.append(int(input(\"Digite o elemento %d do vetor A: \" %i)))\n",
        "    vetorB.append(int(input(\"Digite o elemento %d do vetor B: \" %i)))\n",
        "#vetorC que é dado por vetor A - vetor B\n",
        "for i in range(10):\n",
        "    vetorC.append(vetorA[i]-vetorB[i])\n",
        "print(f\"Vetor C: {vetorC}\")"
      ],
      "metadata": {
        "id": "fbE5eM4B-pvk"
      },
      "execution_count": null,
      "outputs": []
    },
    {
      "cell_type": "code",
      "source": [
        "# Faça um programa em Python que receba 6 numeros inteiros e mostre: ´\n",
        "#  • Os numeros pares digitados;\n",
        "#  • A soma dos numeros pares digitados;\n",
        "#  • Os numeros   ımpares digitados;\n",
        "#  • A quantidade de numeros  ımpares\n",
        "\n",
        "numeros = []\n",
        "numPar = []\n",
        "numImp = []\n",
        "somaPar = 0\n",
        "\n",
        "for i in range(6):\n",
        "    numeros.append(int(input(\"Dgite um numero:\")))\n",
        "for numero in numeros:\n",
        "    if numero % 2 == 0:\n",
        "        numPar.append(numero)\n",
        "        somaPar += numero\n",
        "    else:\n",
        "        numImp.append(numero)\n",
        "print(f\"Os numeros pares sao: {numPar}\")\n",
        "print(\"A soma dos numeros pares é:\", somaPar)\n",
        "print(f\"Os numeros impares sao: {numImp}\")\n",
        "print(\"O total de numeros impares é: \", len(numImp))"
      ],
      "metadata": {
        "id": "1Id3TVUluJuu"
      },
      "execution_count": null,
      "outputs": []
    },
    {
      "cell_type": "code",
      "source": [
        "# Faça um programa em Python para gerar automaticamente numeros entre 0 e 99 de uma cartela de bingo.\n",
        "#Sabendo que cada cartela devera conter 5 linhas de 5 numeros, gere estes dados de modo a nao ter numeros repetidos dentro das cartelas. O programa deve exibir na ´\n",
        "# tela a cartela gerada.\n",
        "\n",
        "import random\n",
        "\n",
        "numeros = set()\n",
        "cartela = []\n",
        "for i in range(5):\n",
        "    numero = random.randint(0,99)\n",
        "    while numero in numeros:\n",
        "        numero = random.randint(0,99)\n",
        "    numeros.add(numero)\n",
        "    cartela.append(numero)\n",
        "\n",
        "print(f\"Cartela de bingo: {cartela}\")\n",
        "for linha in cartela:\n",
        "    print(linha)\n"
      ],
      "metadata": {
        "id": "YU-aLzvMvYdD"
      },
      "execution_count": null,
      "outputs": []
    },
    {
      "cell_type": "code",
      "source": [
        "# Crie um dicionário que é uma agenda e coloque nele os seguintes dados: chave (cpf),\n",
        "# nome, idade, telefone. O programa deve ler um número indeterminado de dados, criar a\n",
        "# agenda e imprimir todos os itens do dicionário no formato chave: nome, idade, fone.\n",
        "\n",
        "#criar agenda\n",
        "agenda= {}\n",
        "\n",
        "#pegar os dados\n",
        "while True:\n",
        "    cpf = input(\"Digite o CPF: \")\n",
        "    nome = input(\"Digite o nome: \")\n",
        "    idade = input(\"Digite a idade: \")\n",
        "    telefone = input(\"Digite o telefone: \")\n",
        "\n",
        "    #adicionar a agenda\n",
        "    agenda[cpf] = {\n",
        "        \"nome\":nome,\n",
        "        \"idade\":idade,\n",
        "        \"telefone\":telefone,\n",
        "        }\n",
        "    #perguntar se quer continuar\n",
        "    continuar = input(\"Deseja continuar(s/n)? \")\n",
        "    if continuar != \"s\":\n",
        "        break\n",
        "#prints\n",
        "for cpf, contato in agenda.items():\n",
        "    print(cpf, contato[\"nome\"], contato[\"idade\"], contato[\"telefone\"])"
      ],
      "metadata": {
        "id": "JIFVgFpaxCdx"
      },
      "execution_count": null,
      "outputs": []
    }
  ]
}